{
 "cells": [
  {
   "cell_type": "code",
   "execution_count": 1,
   "metadata": {},
   "outputs": [],
   "source": [
    "import numpy as np\n",
    "from matplotlib import pyplot as plt\n",
    "from PIL import Image"
   ]
  },
  {
   "cell_type": "code",
   "execution_count": 22,
   "metadata": {},
   "outputs": [
    {
     "name": "stdout",
     "output_type": "stream",
     "text": [
      "<PIL.Image.Image image mode=L size=640x480 at 0x1E728F0E8C8>\n"
     ]
    }
   ],
   "source": [
    "img = Image.open(f'D:/Face - CNN/1-10.jpg').convert('L')\n",
    "print(img)"
   ]
  },
  {
   "cell_type": "code",
   "execution_count": null,
   "metadata": {},
   "outputs": [],
   "source": []
  },
  {
   "cell_type": "code",
   "execution_count": 18,
   "metadata": {},
   "outputs": [],
   "source": [
    "width = img.size[0]\n",
    "height = img.size[1]\n",
    "img = img.resize((width*height, 1), Image.ANTIALIAS)"
   ]
  },
  {
   "cell_type": "code",
   "execution_count": 19,
   "metadata": {},
   "outputs": [
    {
     "name": "stdout",
     "output_type": "stream",
     "text": [
      "<PIL.Image.Image image mode=L size=307200x1 at 0x1E728F09848>\n"
     ]
    }
   ],
   "source": [
    "print(img)"
   ]
  },
  {
   "cell_type": "code",
   "execution_count": 35,
   "metadata": {},
   "outputs": [],
   "source": [
    "##CALCULATING THE MEAN FACE \n",
    "w, h = Image.open(f'D:/Face - CNN/1-01.jpg').size\n",
    "\n",
    "for i in range(1, 201):\n",
    "    arr=np.zeros((h, w),np.float)\n",
    "    for j in range(1, 15):\n",
    "        if(j<10):\n",
    "            img = Image.open(f'D:/Face - CNN/{i}-0{j}.jpg').convert('L')  # i ranges from 1 to 200\n",
    "        else:\n",
    "            img = Image.open(f'D:/Face - CNN/{i}-{j}.jpg').convert('L')  # i ranges from 1 to 200\n",
    "        imarr = np.array(img,dtype=np.float)\n",
    "        arr = arr+imarr/14\n",
    "        img = img.resize((w*h, 1),Image.ANTIALIAS) \n",
    "    arr=np.array(np.round(arr),dtype=np.uint8)\n",
    "    mean_face=Image.fromarray(arr, 'L')\n",
    "    mean_face.save(f'D:/Face - CNN/Mean_Face{i}.jpg')\n",
    "    "
   ]
  },
  {
   "cell_type": "code",
   "execution_count": 38,
   "metadata": {},
   "outputs": [],
   "source": [
    "##NORMALIZING BY SUBTRACTING THE MEAN FACE\n",
    "for i in range(1, 201):\n",
    "    meanimarr = np.array(Image.open(f'D:/Face - CNN/Mean_Face{i}.jpg').convert('L'), dtype=np.uint8)\n",
    "    for j in range(1, 15):\n",
    "        if(j<10):\n",
    "            img = Image.open(f'D:/Face - CNN/{i}-0{j}.jpg').convert('L')  # i ranges from 1 to 200\n",
    "        else:\n",
    "            img = Image.open(f'D:/Face - CNN/{i}-{j}.jpg').convert('L')  # i ranges from 1 to 200\n",
    "        imarr = np.array(img,dtype=np.float)\n",
    "        nimarr = imarr - meanimarr\n",
    "        nimarr=np.array(np.round(nimarr),dtype=np.uint8)\n",
    "        n_face=Image.fromarray(nimarr, 'L')\n",
    "        n_face.save(f'D:/Face - CNN/Normalized_Face{i}-{j}.jpg') \n",
    "    \n",
    "    "
   ]
  },
  {
   "cell_type": "code",
   "execution_count": 42,
   "metadata": {},
   "outputs": [
    {
     "ename": "ModuleNotFoundError",
     "evalue": "No module named 'cv2'",
     "output_type": "error",
     "traceback": [
      "\u001b[1;31m---------------------------------------------------------------------------\u001b[0m",
      "\u001b[1;31mModuleNotFoundError\u001b[0m                       Traceback (most recent call last)",
      "\u001b[1;32m<ipython-input-42-c8ec22b3e787>\u001b[0m in \u001b[0;36m<module>\u001b[1;34m\u001b[0m\n\u001b[1;32m----> 1\u001b[1;33m \u001b[1;32mimport\u001b[0m \u001b[0mcv2\u001b[0m\u001b[1;33m\u001b[0m\u001b[1;33m\u001b[0m\u001b[0m\n\u001b[0m",
      "\u001b[1;31mModuleNotFoundError\u001b[0m: No module named 'cv2'"
     ]
    }
   ],
   "source": [
    "import cv2"
   ]
  },
  {
   "cell_type": "code",
   "execution_count": null,
   "metadata": {},
   "outputs": [],
   "source": [
    "#CALCULATING THE EIGEN FACES\n",
    "for i in range(1, 201):\n",
    "    image_vector = []\n",
    "    for j in range(1, 15):\n",
    "        img = Image.open(f'D:/Face - CNN/Normalized_Face{i}-{j}.jpg').convert('L')  # i ranges from 1 to 200\n",
    "        img = img.resize((w*h, 1),Image.ANTIALIAS) \n",
    "        image_vector.append(np.array(img,dtype=np.float))\n",
    "    data = np.asarray(image_vector)    \n",
    "    covar = np.cov(data)\n",
    "    "
   ]
  },
  {
   "cell_type": "code",
   "execution_count": null,
   "metadata": {},
   "outputs": [],
   "source": []
  },
  {
   "cell_type": "code",
   "execution_count": null,
   "metadata": {},
   "outputs": [],
   "source": []
  },
  {
   "cell_type": "code",
   "execution_count": null,
   "metadata": {},
   "outputs": [],
   "source": []
  },
  {
   "cell_type": "code",
   "execution_count": null,
   "metadata": {},
   "outputs": [],
   "source": []
  },
  {
   "cell_type": "code",
   "execution_count": null,
   "metadata": {},
   "outputs": [],
   "source": []
  },
  {
   "cell_type": "code",
   "execution_count": null,
   "metadata": {},
   "outputs": [],
   "source": []
  },
  {
   "cell_type": "code",
   "execution_count": null,
   "metadata": {},
   "outputs": [],
   "source": []
  },
  {
   "cell_type": "code",
   "execution_count": null,
   "metadata": {},
   "outputs": [],
   "source": []
  }
 ],
 "metadata": {
  "kernelspec": {
   "display_name": "Python 3",
   "language": "python",
   "name": "python3"
  },
  "language_info": {
   "codemirror_mode": {
    "name": "ipython",
    "version": 3
   },
   "file_extension": ".py",
   "mimetype": "text/x-python",
   "name": "python",
   "nbconvert_exporter": "python",
   "pygments_lexer": "ipython3",
   "version": "3.7.4"
  }
 },
 "nbformat": 4,
 "nbformat_minor": 2
}
